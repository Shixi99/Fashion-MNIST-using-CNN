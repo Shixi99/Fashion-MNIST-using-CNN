{
  "nbformat": 4,
  "nbformat_minor": 0,
  "metadata": {
    "colab": {
      "name": "Fashion MNIST-CNN.ipynb",
      "provenance": []
    },
    "kernelspec": {
      "name": "python3",
      "display_name": "Python 3"
    },
    "accelerator": "GPU"
  },
  "cells": [
    {
      "cell_type": "code",
      "metadata": {
        "id": "JL1KpzpW5Rkk",
        "colab_type": "code",
        "colab": {
          "base_uri": "https://localhost:8080/",
          "height": 34
        },
        "outputId": "860acde0-98b0-4ab0-e385-afdd2b5ccec5"
      },
      "source": [
        "import numpy as np\n",
        "import tensorflow as tf\n",
        "import matplotlib.pyplot as plt\n",
        "\n",
        "from tensorflow.keras.models import Model\n",
        "from tensorflow.python.keras.models import Sequential\n",
        "from tensorflow.keras.layers import Dense, Conv2D, Input, Flatten, Dropout, MaxPool2D, BatchNormalization\n",
        "\n",
        "print(tf.__version__)"
      ],
      "execution_count": 111,
      "outputs": [
        {
          "output_type": "stream",
          "text": [
            "2.3.0\n"
          ],
          "name": "stdout"
        }
      ]
    },
    {
      "cell_type": "code",
      "metadata": {
        "id": "QTnBM_6U6CCm",
        "colab_type": "code",
        "colab": {
          "base_uri": "https://localhost:8080/",
          "height": 85
        },
        "outputId": "a5504a08-f4f2-47b8-db04-d8d8d57e0e40"
      },
      "source": [
        "# load data\n",
        "fashion_mnist = tf.keras.datasets.fashion_mnist\n",
        "\n",
        "(x_train, y_train), (x_test, y_test) = fashion_mnist.load_data()\n",
        "x_train, x_test = x_train / 255.0, x_test / 255.0\n",
        "print(f'The shape of x_train: {x_train.shape}\\n\\\n",
        "The shape of x_test: {x_test.shape}\\n\\\n",
        "The shape of y_train: {y_train.shape}\\n\\\n",
        "The shape of y_test: {y_test.shape}')"
      ],
      "execution_count": 112,
      "outputs": [
        {
          "output_type": "stream",
          "text": [
            "The shape of x_train: (60000, 28, 28)\n",
            "The shape of x_test: (10000, 28, 28)\n",
            "The shape of y_train: (60000,)\n",
            "The shape of y_test: (10000,)\n"
          ],
          "name": "stdout"
        }
      ]
    },
    {
      "cell_type": "code",
      "metadata": {
        "id": "ql8TEO-B7Gz-",
        "colab_type": "code",
        "colab": {
          "base_uri": "https://localhost:8080/",
          "height": 51
        },
        "outputId": "18b4659d-ef3a-4ba5-e40d-66a3922b0ccc"
      },
      "source": [
        "# the data is only 2D\n",
        "# convolution expect height x width x color\n",
        "# color -> number of color channel\n",
        "#  in this case it will be 1, because pictures are in white and black\n",
        "x_train = np.expand_dims(x_train, -1)\n",
        "x_test = np.expand_dims(x_test, -1)\n",
        "print(f'The shape of x_train: {x_train.shape}\\n\\\n",
        "The shape of x_test: {x_test.shape}')"
      ],
      "execution_count": 113,
      "outputs": [
        {
          "output_type": "stream",
          "text": [
            "The shape of x_train: (60000, 28, 28, 1)\n",
            "The shape of x_test: (10000, 28, 28, 1)\n"
          ],
          "name": "stdout"
        }
      ]
    },
    {
      "cell_type": "code",
      "metadata": {
        "id": "Sb7YkL5K8LLU",
        "colab_type": "code",
        "colab": {
          "base_uri": "https://localhost:8080/",
          "height": 34
        },
        "outputId": "623f9ded-e05a-4c35-9b04-979a1940e317"
      },
      "source": [
        "# number of classes\n",
        "N = len(set(y_train))\n",
        "print(f'Number of classes: {N}')"
      ],
      "execution_count": 114,
      "outputs": [
        {
          "output_type": "stream",
          "text": [
            "Number of classes: 10\n"
          ],
          "name": "stdout"
        }
      ]
    },
    {
      "cell_type": "code",
      "metadata": {
        "id": "_kltEb4k9cco",
        "colab_type": "code",
        "colab": {}
      },
      "source": [
        "# # building the model using functional API\n",
        "# i = Input(shape=x_train[0].shape)\n",
        "\n",
        "# x = Conv2D(32, (3,3),  activation='relu', kernel_initializer='he_normal')(i)\n",
        "# x = BatchNormalization()(x)\n",
        "# x = MaxPool2D(pool_size=(2, 2))(x)\n",
        "# x = Dropout(0.25)(x)\n",
        "\n",
        "# x = Conv2D(64, (3,3), activation='relu', kernel_initializer='he_normal')(x)\n",
        "# x = BatchNormalization()(x)\n",
        "# x = MaxPool2D(pool_size=(2, 2))(x)\n",
        "# x = Dropout(0.25)(x)\n",
        "\n",
        "# x = Conv2D(128, (3,3),  activation='relu')(x)\n",
        "# x = BatchNormalization()(x)\n",
        "# x = MaxPool2D(pool_size=(2, 2))(x)\n",
        "\n",
        "# x = Flatten()(x)\n",
        "# x = Dropout(0.25)(x)\n",
        "# x = Dense(128, activation='relu')(x)\n",
        "# x = Dropout(0.25)(x)\n",
        "# x = Dense(N, activation='softmax')(x)\n",
        "\n",
        "# model = Model(i, x)"
      ],
      "execution_count": 115,
      "outputs": []
    },
    {
      "cell_type": "code",
      "metadata": {
        "id": "rxn7FQn5BcVL",
        "colab_type": "code",
        "colab": {}
      },
      "source": [
        "# Model\n",
        "model = Sequential()\n",
        "# Add convolution 2D\n",
        "model.add(Conv2D(32, kernel_size=(3, 3),\n",
        "                 activation='relu',\n",
        "                 kernel_initializer='he_normal',\n",
        "                 input_shape=x_train[0].shape))\n",
        "model.add(MaxPool2D(pool_size=(2, 2)))\n",
        "model.add(Dropout(0.25))\n",
        "\n",
        "# model.add(Conv2D(64, \n",
        "#                  kernel_size=(3, 3), \n",
        "#                  activation='relu'))\n",
        "# model.add(MaxPooling2D(pool_size=(2, 2)))\n",
        "# model.add(Dropout(0.25))\n",
        "\n",
        "model.add(Conv2D(128, (3, 3), activation='relu'))\n",
        "model.add(Dropout(0.25))\n",
        "\n",
        "model.add(Flatten())\n",
        "model.add(Dense(128, activation='relu'))\n",
        "# Add dropouts to the model\n",
        "model.add(Dropout(0.25))\n",
        "model.add(Dense(N, activation='softmax'))"
      ],
      "execution_count": 116,
      "outputs": []
    },
    {
      "cell_type": "code",
      "metadata": {
        "id": "ryFELI3P-IhI",
        "colab_type": "code",
        "colab": {}
      },
      "source": [
        "# compile and fit // using GPU\n",
        "\n",
        "model.compile(\n",
        "    optimizer = 'adam',\n",
        "    loss = 'sparse_categorical_crossentropy',\n",
        "    metrics = ['accuracy']\n",
        ")\n"
      ],
      "execution_count": 117,
      "outputs": []
    },
    {
      "cell_type": "code",
      "metadata": {
        "id": "aR2bjmVFMyAt",
        "colab_type": "code",
        "colab": {
          "base_uri": "https://localhost:8080/",
          "height": 527
        },
        "outputId": "0501ac71-bf89-4ba7-f2e7-f5cb407e6fb9"
      },
      "source": [
        "m = model.fit(\n",
        "    x_train, y_train,\n",
        "    validation_data = (x_test, y_test),\n",
        "    epochs = 15\n",
        ")"
      ],
      "execution_count": 118,
      "outputs": [
        {
          "output_type": "stream",
          "text": [
            "Epoch 1/15\n",
            "1875/1875 [==============================] - 6s 3ms/step - loss: 0.4624 - accuracy: 0.8346 - val_loss: 0.3245 - val_accuracy: 0.8785\n",
            "Epoch 2/15\n",
            "1875/1875 [==============================] - 6s 3ms/step - loss: 0.3092 - accuracy: 0.8878 - val_loss: 0.2725 - val_accuracy: 0.8974\n",
            "Epoch 3/15\n",
            "1875/1875 [==============================] - 6s 3ms/step - loss: 0.2613 - accuracy: 0.9037 - val_loss: 0.2476 - val_accuracy: 0.9111\n",
            "Epoch 4/15\n",
            "1875/1875 [==============================] - 6s 3ms/step - loss: 0.2333 - accuracy: 0.9146 - val_loss: 0.2502 - val_accuracy: 0.9102\n",
            "Epoch 5/15\n",
            "1875/1875 [==============================] - 6s 3ms/step - loss: 0.2124 - accuracy: 0.9213 - val_loss: 0.2466 - val_accuracy: 0.9093\n",
            "Epoch 6/15\n",
            "1875/1875 [==============================] - 6s 3ms/step - loss: 0.1949 - accuracy: 0.9265 - val_loss: 0.2318 - val_accuracy: 0.9193\n",
            "Epoch 7/15\n",
            "1875/1875 [==============================] - 5s 3ms/step - loss: 0.1818 - accuracy: 0.9315 - val_loss: 0.2225 - val_accuracy: 0.9207\n",
            "Epoch 8/15\n",
            "1875/1875 [==============================] - 6s 3ms/step - loss: 0.1686 - accuracy: 0.9360 - val_loss: 0.2484 - val_accuracy: 0.9165\n",
            "Epoch 9/15\n",
            "1875/1875 [==============================] - 6s 3ms/step - loss: 0.1592 - accuracy: 0.9395 - val_loss: 0.2327 - val_accuracy: 0.9230\n",
            "Epoch 10/15\n",
            "1875/1875 [==============================] - 6s 3ms/step - loss: 0.1471 - accuracy: 0.9443 - val_loss: 0.2371 - val_accuracy: 0.9257\n",
            "Epoch 11/15\n",
            "1875/1875 [==============================] - 6s 3ms/step - loss: 0.1402 - accuracy: 0.9462 - val_loss: 0.2539 - val_accuracy: 0.9176\n",
            "Epoch 12/15\n",
            "1875/1875 [==============================] - 5s 3ms/step - loss: 0.1338 - accuracy: 0.9487 - val_loss: 0.2462 - val_accuracy: 0.9237\n",
            "Epoch 13/15\n",
            "1875/1875 [==============================] - 5s 3ms/step - loss: 0.1273 - accuracy: 0.9516 - val_loss: 0.2394 - val_accuracy: 0.9240\n",
            "Epoch 14/15\n",
            "1875/1875 [==============================] - 5s 3ms/step - loss: 0.1210 - accuracy: 0.9538 - val_loss: 0.2534 - val_accuracy: 0.9219\n",
            "Epoch 15/15\n",
            "1875/1875 [==============================] - 6s 3ms/step - loss: 0.1175 - accuracy: 0.9543 - val_loss: 0.2521 - val_accuracy: 0.9227\n"
          ],
          "name": "stdout"
        }
      ]
    },
    {
      "cell_type": "code",
      "metadata": {
        "id": "ROUb1KfV97X3",
        "colab_type": "code",
        "colab": {
          "base_uri": "https://localhost:8080/",
          "height": 282
        },
        "outputId": "15b991a6-6876-4ad6-8282-308d7f6a5eea"
      },
      "source": [
        "# Plot loss per iteration\n",
        "import matplotlib.pyplot as plt\n",
        "plt.plot(m.history['loss'], label='loss')\n",
        "plt.plot(m.history['val_loss'], label='val_loss')\n",
        "plt.legend()"
      ],
      "execution_count": 124,
      "outputs": [
        {
          "output_type": "execute_result",
          "data": {
            "text/plain": [
              "<matplotlib.legend.Legend at 0x7fb3a58bb588>"
            ]
          },
          "metadata": {
            "tags": []
          },
          "execution_count": 124
        },
        {
          "output_type": "display_data",
          "data": {
            "image/png": "[encoded data removed]",
            "text/plain": [
              "<Figure size 432x288 with 1 Axes>"
            ]
          },
          "metadata": {
            "tags": [],
            "needs_background": "light"
          }
        }
      ]
    },
    {
      "cell_type": "code",
      "metadata": {
        "id": "I_V-SOY5-DEu",
        "colab_type": "code",
        "colab": {
          "base_uri": "https://localhost:8080/",
          "height": 286
        },
        "outputId": "f03a5f1e-e5a6-4b36-8eb5-cf197378f7b5"
      },
      "source": [
        "# Plot accuracy per iteration\n",
        "plt.plot(m.history['accuracy'], label='acc')\n",
        "plt.plot(m.history['val_accuracy'], label='val_acc')\n",
        "plt.legend()"
      ],
      "execution_count": 125,
      "outputs": [
        {
          "output_type": "execute_result",
          "data": {
            "text/plain": [
              "<matplotlib.legend.Legend at 0x7fb3a581afd0>"
            ]
          },
          "metadata": {
            "tags": []
          },
          "execution_count": 125
        },
        {
          "output_type": "display_data",
          "data": {
            "image/png": "[encoded data removed]",
            "text/plain": [
              "<Figure size 432x288 with 1 Axes>"
            ]
          },
          "metadata": {
            "tags": [],
            "needs_background": "light"
          }
        }
      ]
    },
    {
      "cell_type": "code",
      "metadata": {
        "id": "E48-LFds-HDr",
        "colab_type": "code",
        "colab": {
          "base_uri": "https://localhost:8080/",
          "height": 498
        },
        "outputId": "6362b42f-ea41-447e-a834-9c8713c07dbe"
      },
      "source": [
        "# Plot confusion matrix\n",
        "from sklearn.metrics import confusion_matrix\n",
        "import itertools\n",
        "\n",
        "def plot_confusion_matrix(cm, classes,\n",
        "                          normalize=False,\n",
        "                          title='Confusion matrix',\n",
        "                          cmap=plt.cm.Blues):\n",
        "  \"\"\"\n",
        "  This function prints and plots the confusion matrix.\n",
        "  Normalization can be applied by setting `normalize=True`.\n",
        "  \"\"\"\n",
        "  if normalize:\n",
        "      cm = cm.astype('float') / cm.sum(axis=1)[:, np.newaxis]\n",
        "      print(\"Normalized confusion matrix\")\n",
        "  else:\n",
        "      print('Confusion matrix, without normalization')\n",
        "\n",
        "  print(cm)\n",
        "\n",
        "  plt.imshow(cm, interpolation='nearest', cmap=cmap)\n",
        "  plt.title(title)\n",
        "  plt.colorbar()\n",
        "  tick_marks = np.arange(len(classes))\n",
        "  plt.xticks(tick_marks, classes, rotation=45)\n",
        "  plt.yticks(tick_marks, classes)\n",
        "\n",
        "  fmt = '.2f' if normalize else 'd'\n",
        "  thresh = cm.max() / 2.\n",
        "  for i, j in itertools.product(range(cm.shape[0]), range(cm.shape[1])):\n",
        "      plt.text(j, i, format(cm[i, j], fmt),\n",
        "               horizontalalignment=\"center\",\n",
        "               color=\"white\" if cm[i, j] > thresh else \"black\")\n",
        "\n",
        "  plt.tight_layout()\n",
        "  plt.ylabel('True label')\n",
        "  plt.xlabel('Predicted label')\n",
        "  plt.show()\n",
        "\n",
        "\n",
        "p_test = model.predict(x_test).argmax(axis=1)\n",
        "cm = confusion_matrix(y_test, p_test)\n",
        "plot_confusion_matrix(cm, list(range(10)))\n",
        "\n"
      ],
      "execution_count": 126,
      "outputs": [
        {
          "output_type": "stream",
          "text": [
            "Confusion matrix, without normalization\n",
            "[[874   1  10  10   0   0 102   0   3   0]\n",
            " [  1 985   0   9   1   0   3   0   1   0]\n",
            " [ 16   1 859   8  30   0  85   0   1   0]\n",
            " [ 13   1   4 941  15   0  23   0   2   1]\n",
            " [  0   1  33  34 857   0  73   0   2   0]\n",
            " [  0   0   0   0   0 984   0   5   0  11]\n",
            " [ 96   2  32  22  50   0 796   0   2   0]\n",
            " [  0   0   0   0   0   9   0 965   0  26]\n",
            " [  3   1   1   3   2   2   2   2 984   0]\n",
            " [  1   0   0   0   0   3   0  14   0 982]]\n"
          ],
          "name": "stdout"
        },
        {
          "output_type": "display_data",
          "data": {
            "image/png": "[encoded data removed]",
            "text/plain": [
              "<Figure size 432x288 with 2 Axes>"
            ]
          },
          "metadata": {
            "tags": [],
            "needs_background": "light"
          }
        }
      ]
    },
    {
      "cell_type": "code",
      "metadata": {
        "id": "Ssxzk7ykVvjV",
        "colab_type": "code",
        "colab": {}
      },
      "source": [
        "# Label mapping\n",
        "labels = '''T-shirt/top\n",
        "Trouser\n",
        "Pullover\n",
        "Dress\n",
        "Coat\n",
        "Sandal\n",
        "Shirt\n",
        "Sneaker\n",
        "Bag\n",
        "Ankle boot'''.split(\"\\n\")"
      ],
      "execution_count": 127,
      "outputs": []
    },
    {
      "cell_type": "code",
      "metadata": {
        "id": "LtNe3zOlV0h7",
        "colab_type": "code",
        "colab": {
          "base_uri": "https://localhost:8080/",
          "height": 281
        },
        "outputId": "fb10568e-0e58-4164-b951-5d5fcb0e4add"
      },
      "source": [
        "# Show some misclassified examples\n",
        "misclassified_idx = np.where(p_test != y_test)[0]\n",
        "i = np.random.choice(misclassified_idx)\n",
        "plt.imshow(x_test[i].reshape(28,28), cmap='gray')\n",
        "plt.title(\"True label: %s Predicted: %s\" % (labels[y_test[i]], labels[p_test[i]]));"
      ],
      "execution_count": 128,
      "outputs": [
        {
          "output_type": "display_data",
          "data": {
            "image/png": "[encoded data removed]",
            "text/plain": [
              "<Figure size 432x288 with 1 Axes>"
            ]
          },
          "metadata": {
            "tags": [],
            "needs_background": "light"
          }
        }
      ]
    },
    {
      "cell_type": "code",
      "metadata": {
        "id": "W3FuQWVRV4Oo",
        "colab_type": "code",
        "colab": {}
      },
      "source": [
        ""
      ],
      "execution_count": 123,
      "outputs": []
    }
  ]
}